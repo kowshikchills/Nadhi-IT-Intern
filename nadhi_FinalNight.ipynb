{
 "cells": [
  {
   "cell_type": "code",
   "execution_count": 7,
   "metadata": {
    "collapsed": false
   },
   "outputs": [
    {
     "name": "stdout",
     "output_type": "stream",
     "text": [
      "Opened database successfully\n"
     ]
    }
   ],
   "source": [
    "import psycopg2\n",
    "import pandas.io.sql as pdsql\n",
    "import pandas as pd\n",
    "conn = psycopg2.connect(database=\"npulse-clean\", user=\"postgres\", password=\"kowshik\", host=\"127.0.0.1\", port=\"5432\")\n",
    "print \"Opened database successfully\"\n",
    "\n",
    "cursor = conn.cursor()\n",
    "cursor.execute(\"select relname from pg_class where relkind='r' and relname !~ '^(pg_|sql_)';\")\n",
    "Total_data = cursor.fetchall()\n",
    "\n",
    "Dataframes = {}\n",
    "for i in [153,73,92,44,60,154,199]:\n",
    "    Dataframes[i] =  pd.read_sql_query('select * from '+list(list(Total_data)[i])[0],con=conn)\n",
    "\n",
    "category_name = []\n",
    "description = []\n",
    "category_level = []\n",
    "project_id = []\n",
    "account_id  = []\n",
    "MYFRAME =  Dataframes[73][:]\n",
    "DICT_1 = Dataframes[153].set_index('category_id').T.to_dict('list')\n",
    "for i in Dataframes[73]['category_id'].values:\n",
    "    category_name.append(DICT_1[i][0])\n",
    "    description.append(DICT_1[i][1])\n",
    "    category_level.append(DICT_1[i][2])\n",
    "    project_id.append(DICT_1[i][3])\n",
    "    account_id.append(DICT_1[i][4])\n",
    "MYFRAME['category_name'] =    category_name\n",
    "MYFRAME['description'] =    description\n",
    "MYFRAME['category_level'] =    category_level\n",
    "MYFRAME['project_id'] =    project_id\n",
    "MYFRAME['account_id'] =    account_id\n",
    "\n",
    "init_contact_id = []\n",
    "DICT_2 = Dataframes[92].set_index('agenda_item_id').T.to_dict('list')\n",
    "for i in Dataframes[73]['agenda_item_id'].values:\n",
    "    if i in Dataframes[92]['agenda_item_id'].values:\n",
    "        init_contact_id.append(DICT_2[i][0])\n",
    "    else:\n",
    "        init_contact_id.append('None') \n",
    "MYFRAME['init_contact_id'] = init_contact_id\n",
    "#########################################################################################\n",
    "\n",
    "contact_id = []\n",
    "DICT_3 = Dataframes[44].groupby('agenda_item_id')['contact_id'].apply(list)\n",
    "for i in Dataframes[73]['agenda_item_id'].values:\n",
    "    if i in Dataframes[44]['agenda_item_id'].values:\n",
    "        contact_id.append(DICT_3[i][0])\n",
    "    else:\n",
    "        contact_id.append('None') \n",
    "MYFRAME['contact_id'] = contact_id\n",
    "\n",
    "subscriber_id = []\n",
    "DICT_4 = Dataframes[60].groupby('agenda_item_id')['subscriber_id'].apply(list) #subscriber_id\n",
    "for i in Dataframes[73]['agenda_item_id'].values:\n",
    "    if i in Dataframes[60]['agenda_item_id'].values:\n",
    "        subscriber_id.append(DICT_4[i][0])\n",
    "    else:\n",
    "        subscriber_id.append('None') \n",
    "MYFRAME['subscriber_id'] = subscriber_id\n",
    "\n",
    "##########################################################################################\n",
    "\n",
    "\n",
    "DICT_5 = Dataframes[154].set_index('agenda_item_id').T.to_dict('list') #subscriber_id\n",
    "issue_discussed = []\n",
    "created_by_user_id = []\n",
    "created_on = []\n",
    "reminder_type = []\n",
    "due_date = []\n",
    "priority_id = []\n",
    "for i in Dataframes[73]['agenda_item_id'].values:\n",
    "    if i in Dataframes[154]['agenda_item_id'].values:\n",
    "        issue_discussed.append(DICT_5[i][0])\n",
    "        created_by_user_id.append(DICT_5[i][1])\n",
    "        created_on.append(DICT_5[i][2])\n",
    "        reminder_type.append(DICT_5[i][9])\n",
    "        due_date.append(DICT_5[i][12])\n",
    "        priority_id.append(DICT_5[i][15])\n",
    "    else:\n",
    "        issue_discussed.append('None')\n",
    "        created_by_user_id.append('None')\n",
    "        created_on.append('None')\n",
    "        reminder_type.append('None')\n",
    "        due_date.append('None')\n",
    "        priority_id.append('None')\n",
    "        \n",
    "MYFRAME['issue_discussed'] = issue_discussed\n",
    "MYFRAME['created_by_user_id'] = created_by_user_id\n",
    "MYFRAME['created_on'] = created_on\n",
    "MYFRAME['reminder_type'] = reminder_type \n",
    "MYFRAME['due_date'] = due_date \n",
    "MYFRAME['priority_id'] = priority_id \n",
    "import warnings\n",
    "warnings.filterwarnings('ignore')\n",
    "\n",
    "###################################################\n",
    "Ass_last_name = []\n",
    "Ass_first_name = []\n",
    "Ass_middle_name = []\n",
    "Ass_designation = []\n",
    "Ass_org = []\n",
    "DICT_6 = Dataframes[199].set_index('contact_id').T.to_dict('list') #subscriber_id\n",
    "for i in MYFRAME['contact_id'].values:\n",
    "    if i in Dataframes[199]['contact_id'].values:\n",
    "        Ass_last_name.append(DICT_6[i][3])\n",
    "        Ass_middle_name.append(DICT_6[i][2])\n",
    "        Ass_first_name.append(DICT_6[i][1])\n",
    "        Ass_designation.append(DICT_6[i][4])\n",
    "        Ass_org.append(DICT_6[i][17])\n",
    "    else:\n",
    "        Ass_last_name.append('None')\n",
    "        Ass_middle_name.append('None')\n",
    "        Ass_first_name.append('None')\n",
    "        Ass_designation.append('None')\n",
    "        Ass_org.append('None')\n",
    "MYFRAME['Ass_last_name'] = Ass_last_name\n",
    "MYFRAME['Ass_middle_name'] = Ass_middle_name\n",
    "MYFRAME['Ass_first_name'] = Ass_first_name\n",
    "MYFRAME['Ass_designation'] = Ass_designation\n",
    "MYFRAME['Ass_org'] = Ass_org\n",
    "\n",
    "\n",
    "Sub_last_name = []\n",
    "Sub_first_name = []\n",
    "Sub_middle_name = []\n",
    "Sub_designation = []\n",
    "Sub_org = []\n",
    "\n",
    "DICT_7 = Dataframes[199].set_index('contact_id').T.to_dict('list') #subscriber_id\n",
    "for i in MYFRAME['subscriber_id'].values:\n",
    "    if i in Dataframes[199]['contact_id'].values:\n",
    "        Sub_last_name.append(DICT_7[i][3])\n",
    "        Sub_middle_name.append(DICT_7[i][2])\n",
    "        Sub_first_name.append(DICT_7[i][1])\n",
    "        Sub_designation.append(DICT_7[i][4])\n",
    "        Sub_org.append(DICT_7[i][17])\n",
    "    else:\n",
    "        Sub_last_name.append('None')\n",
    "        Sub_middle_name.append('None')\n",
    "        Sub_first_name.append('None')\n",
    "        Sub_designation.append('None')\n",
    "        Sub_org.append('None')\n",
    "MYFRAME['Sub_last_name'] = Sub_last_name\n",
    "MYFRAME['Sub_middle_name'] = Sub_middle_name\n",
    "MYFRAME['Sub_first_name'] = Sub_first_name\n",
    "MYFRAME['Sub_designation'] = Sub_designation\n",
    "MYFRAME['Sub_org'] = Sub_org\n",
    "\n",
    "\n",
    "Inv_last_name = []\n",
    "Inv_first_name = []\n",
    "Inv_middle_name = []\n",
    "Inv_designation = []\n",
    "Inv_org = []\n",
    "\n",
    "DICT_7 = Dataframes[199].set_index('contact_id').T.to_dict('list') #Invscriber_id\n",
    "for i in MYFRAME['init_contact_id'].values:\n",
    "    if i in Dataframes[199]['contact_id'].values:\n",
    "        Inv_last_name.append(DICT_7[i][3])\n",
    "        Inv_middle_name.append(DICT_7[i][2])\n",
    "        Inv_first_name.append(DICT_7[i][1])\n",
    "        Inv_designation.append(DICT_7[i][4])\n",
    "        Inv_org.append(DICT_7[i][17])\n",
    "    else:\n",
    "        Inv_last_name.append('None')\n",
    "        Inv_middle_name.append('None')\n",
    "        Inv_first_name.append('None')\n",
    "        Inv_designation.append('None')\n",
    "        Inv_org.append('None')\n",
    "MYFRAME['Inv_last_name'] = Inv_last_name\n",
    "MYFRAME['Inv_middle_name'] = Inv_middle_name\n",
    "MYFRAME['Inv_first_name'] = Inv_first_name\n",
    "MYFRAME['Inv_designation'] = Inv_designation\n",
    "MYFRAME['Inv_org'] = Inv_org\n",
    "\n",
    "MYFRAME = MYFRAME[MYFRAME.init_contact_id != 'None']\n",
    "MYFRAME = MYFRAME[MYFRAME.subscriber_id != 'None']\n",
    "MYFRAME = MYFRAME[MYFRAME.contact_id != 'None']\n",
    "#MYFRAME = MYFRAME[MYFRAME.issue_discussed != 'None']\n",
    "MYFRAME_PROJ_55 = MYFRAME[MYFRAME.project_id == 'PROJ#RIP']\n",
    "MYFRAME_PROJ_55 = MYFRAME_PROJ_55[pd.notnull(MYFRAME_PROJ_55['contact_id'])]\n",
    "\n",
    "\n",
    "cols = ['agenda_item_id','category_name','init_contact_id','contact_id','subscriber_id']\n",
    "frame  = MYFRAME_PROJ_55[cols]\n",
    "\n",
    "\n",
    "frame['contact_id'].values\n",
    "frame = frame[frame.contact_id != 'None']"
   ]
  },
  {
   "cell_type": "code",
   "execution_count": 2,
   "metadata": {
    "collapsed": true
   },
   "outputs": [],
   "source": [
    "#MODEl\n",
    "from sklearn.feature_extraction import DictVectorizer\n",
    "test= 132\n",
    "#testing_W = 10\n",
    "frame_train = frame[:test]\n",
    "frame_test = frame[test:]\n",
    "Y_assignes = frame['contact_id'].values\n",
    "Y_subscriber = frame['subscriber_id'].values\n",
    "agenda_item_id = frame_test['agenda_item_id'].values\n",
    "del frame_train['contact_id']\n",
    "del frame_train['subscriber_id']\n",
    "del frame_test['contact_id']\n",
    "del frame_test['subscriber_id']\n",
    "del frame_train['agenda_item_id']\n",
    "del frame_test['agenda_item_id']\n",
    "\n",
    "\n",
    "\n",
    "#ENCODING\n",
    "X_train = frame_train.to_dict('records')\n",
    "X_test = frame_test.to_dict('records')\n",
    "X_tr = []\n",
    "X_te = []\n",
    "X_tr.extend(X_train)\n",
    "X_te.extend(X_test)\n",
    "X_total = X_tr + X_te\n",
    "#One Hot Encoding \n",
    "enc = DictVectorizer()\n",
    "X_encoded_total =enc.fit_transform(X_total)\n",
    "X_encoded_train =X_encoded_total[:len(X_tr)]\n",
    "X_encoded_test =X_encoded_total[len(X_tr):]\n",
    "from sklearn.linear_model import LogisticRegression\n",
    "from sklearn.tree import DecisionTreeClassifier\n",
    "clf1 = LogisticRegression()\n",
    "clf2 = LogisticRegression()\n",
    "\n",
    "clf1.fit(X_encoded_train,Y_assignes[:test])\n",
    "clf2.fit(X_encoded_train,Y_subscriber[:test])\n",
    "\n",
    "\n",
    "ass_ordered_by_probability = []\n",
    "for i in range(X_encoded_test.shape[0]):\n",
    "        proba = clf1.predict_proba(X_encoded_test)[i]\n",
    "        prob_per_class_dictionary = dict(zip(clf1.classes_, proba))\n",
    "        ass_ordered_by_probability.append(map(lambda x: x[0], sorted(zip(clf1.classes_, proba), key=lambda x: x[1], reverse=True)))\n",
    "        ass_ordered_by_probability = ass_ordered_by_probability[0]\n",
    "        \n",
    "Sub_ordered_by_probability = []\n",
    "for i in range(X_encoded_test.shape[0]):\n",
    "        proba = clf2.predict_proba(X_encoded_test)[i]\n",
    "        prob_per_class_dictionary = dict(zip(clf1.classes_, proba))\n",
    "        Sub_ordered_by_probability.append(map(lambda x: x[0], sorted(zip(clf1.classes_, proba), key=lambda x: x[1], reverse=True)))\n",
    "        Sub_ordered_by_probability = Sub_ordered_by_probability[0]"
   ]
  },
  {
   "cell_type": "code",
   "execution_count": 9,
   "metadata": {
    "collapsed": true
   },
   "outputs": [],
   "source": [
    "Taskframe =  pd.read_sql_query('select * from '+'task',con=conn)"
   ]
  },
  {
   "cell_type": "code",
   "execution_count": 14,
   "metadata": {
    "collapsed": false
   },
   "outputs": [],
   "source": [
    "MYFRAME = MYFRAME[MYFRAME.init_contact_id != 'None']\n",
    "MYFRAME = MYFRAME[MYFRAME.subscriber_id != 'None']\n",
    "MYFRAME = MYFRAME[MYFRAME.contact_id != 'None']\n",
    "#MYFRAME = MYFRAME[MYFRAME.issue_discussed != 'None']\n",
    "MYFRAME_PROJ_RIP = MYFRAME[MYFRAME.project_id == 'PROJ#RIP']"
   ]
  },
  {
   "cell_type": "code",
   "execution_count": 15,
   "metadata": {
    "collapsed": false
   },
   "outputs": [],
   "source": [
    "Taskframe = Taskframe[Taskframe.project_id == 'PROJ#RIP']"
   ]
  },
  {
   "cell_type": "code",
   "execution_count": 32,
   "metadata": {
    "collapsed": false
   },
   "outputs": [
    {
     "data": {
      "text/plain": [
       "2014"
      ]
     },
     "execution_count": 32,
     "metadata": {},
     "output_type": "execute_result"
    }
   ],
   "source": [
    "pd.Timestamp(MYFRAME_PROJ_RIP['created_on'].values[1].astype(object)).to_pydatetime().year "
   ]
  },
  {
   "cell_type": "code",
   "execution_count": 34,
   "metadata": {
    "collapsed": false
   },
   "outputs": [
    {
     "data": {
      "text/plain": [
       "array(['2015-07-23T23:30:00.000000000+0530',\n",
       "       '2015-08-10T23:30:00.000000000+0530',\n",
       "       '2015-07-15T18:30:00.000000000+0530', ...,\n",
       "       '2015-08-19T13:30:00.000000000+0530',\n",
       "       '2015-08-13T13:30:00.000000000+0530',\n",
       "       '2014-03-04T13:30:00.000000000+0530'], dtype='datetime64[ns]')"
      ]
     },
     "execution_count": 34,
     "metadata": {},
     "output_type": "execute_result"
    }
   ],
   "source": []
  },
  {
   "cell_type": "code",
   "execution_count": null,
   "metadata": {
    "collapsed": true
   },
   "outputs": [],
   "source": []
  }
 ],
 "metadata": {
  "kernelspec": {
   "display_name": "Python 2",
   "language": "python",
   "name": "python2"
  },
  "language_info": {
   "codemirror_mode": {
    "name": "ipython",
    "version": 2
   },
   "file_extension": ".py",
   "mimetype": "text/x-python",
   "name": "python",
   "nbconvert_exporter": "python",
   "pygments_lexer": "ipython2",
   "version": "2.7.10"
  }
 },
 "nbformat": 4,
 "nbformat_minor": 0
}
